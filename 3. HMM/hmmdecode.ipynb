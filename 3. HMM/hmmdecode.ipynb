{
 "cells": [
  {
   "cell_type": "code",
   "execution_count": 1,
   "outputs": [],
   "source": [
    "import math"
   ],
   "metadata": {
    "collapsed": false,
    "pycharm": {
     "name": "#%%\n"
    }
   }
  },
  {
   "cell_type": "code",
   "execution_count": 2,
   "outputs": [],
   "source": [
    "model_path = \"hmmmodel.txt\"\n",
    "file_path = \"./hmm-training-data/it_isdt_dev_tagged.txt\""
   ],
   "metadata": {
    "collapsed": false,
    "pycharm": {
     "name": "#%%\n"
    }
   }
  },
  {
   "cell_type": "code",
   "execution_count": 3,
   "outputs": [],
   "source": [
    "def get_open_class_tags(emission_dictionary, use_frequency_of_tags=False, divider_number=5):\n",
    "    opening_tags = {}\n",
    "    if use_frequency_of_tags:\n",
    "        opening_tags = sorted(tags_dict.items(), key=lambda x: x[1] if x[0] != 'START' and x[0] != 'END' else 0, reverse=True)[:divider_number]\n",
    "    else:\n",
    "        for tag, word in emission_dictionary:\n",
    "            if tag not in opening_tags:\n",
    "                opening_tags[tag] = set()\n",
    "                opening_tags[tag].add(word)\n",
    "            else:\n",
    "                opening_tags[tag].add(word)\n",
    "        opening_tags = {tag: len(opening_tags[tag]) for tag in opening_tags}\n",
    "        opening_tags = sorted(opening_tags.items(), key=lambda x: x[1], reverse=True)[:divider_number]\n",
    "    return opening_tags"
   ],
   "metadata": {
    "collapsed": false,
    "pycharm": {
     "name": "#%%\n"
    }
   }
  },
  {
   "cell_type": "code",
   "execution_count": 4,
   "outputs": [],
   "source": [
    "with open(model_path, 'r', encoding=\"utf-8\") as model_file:\n",
    "    model = model_file.readlines()\n",
    "    words_set = eval(model[0])\n",
    "    tags_dict = eval(model[1])\n",
    "    tags_set = tags_dict.keys() - {'START', 'END'}\n",
    "    transition_dict = eval(model[2])\n",
    "    emission_dict = eval(model[3])\n",
    "\n",
    "# opening class tags\n",
    "open_class_tags = get_open_class_tags(emission_dict)\n",
    "\n",
    "predictions = []"
   ],
   "metadata": {
    "collapsed": false,
    "pycharm": {
     "name": "#%%\n"
    }
   }
  },
  {
   "cell_type": "code",
   "execution_count": 5,
   "outputs": [
    {
     "ename": "KeyError",
     "evalue": "('START', 'N')",
     "output_type": "error",
     "traceback": [
      "\u001B[0;31m---------------------------------------------------------------------------\u001B[0m",
      "\u001B[0;31mKeyError\u001B[0m                                  Traceback (most recent call last)",
      "Input \u001B[0;32mIn [5]\u001B[0m, in \u001B[0;36m<cell line: 1>\u001B[0;34m()\u001B[0m\n\u001B[1;32m     26\u001B[0m             father_tags[first_word][tag] \u001B[38;5;241m=\u001B[39m \u001B[38;5;124m'\u001B[39m\u001B[38;5;124mSTART\u001B[39m\u001B[38;5;124m'\u001B[39m\n\u001B[1;32m     27\u001B[0m     \u001B[38;5;28;01melse\u001B[39;00m:\n\u001B[0;32m---> 28\u001B[0m         matrix[first_word][tag] \u001B[38;5;241m=\u001B[39m math\u001B[38;5;241m.\u001B[39mlog(\u001B[43mtransition_dict\u001B[49m\u001B[43m[\u001B[49m\u001B[43m(\u001B[49m\u001B[38;5;124;43m\"\u001B[39;49m\u001B[38;5;124;43mSTART\u001B[39;49m\u001B[38;5;124;43m\"\u001B[39;49m\u001B[43m,\u001B[49m\u001B[43m \u001B[49m\u001B[43mtag\u001B[49m\u001B[43m)\u001B[49m\u001B[43m]\u001B[49m)\n\u001B[1;32m     29\u001B[0m         father_tags[first_word][tag] \u001B[38;5;241m=\u001B[39m \u001B[38;5;124m'\u001B[39m\u001B[38;5;124mSTART\u001B[39m\u001B[38;5;124m'\u001B[39m\n\u001B[1;32m     31\u001B[0m \u001B[38;5;66;03m# Other columns\u001B[39;00m\n",
      "\u001B[0;31mKeyError\u001B[0m: ('START', 'N')"
     ]
    }
   ],
   "source": [
    "with open(file_path, encoding='utf-8') as input_file:\n",
    "    lines = input_file.readlines()\n",
    "    for line in lines:\n",
    "        words = line.split()\n",
    "\n",
    "        matrix = {}\n",
    "        father_tags = {}\n",
    "        for index, word in enumerate(words):\n",
    "            word_tuple = (word, index)\n",
    "            matrix[word_tuple] = {}\n",
    "            father_tags[word_tuple] = {}\n",
    "            for tag in tags_dict:\n",
    "                if tag == 'START' or tag == 'END':\n",
    "                    continue\n",
    "                else:\n",
    "                    matrix[word_tuple][tag] = -math.inf\n",
    "                    father_tags[word_tuple][tag] = ''\n",
    "\n",
    "        # First column initialization\n",
    "        first_word = (words[0], 0)\n",
    "        for tag in tags_set:\n",
    "            if first_word[0] in words_set:\n",
    "                emission_tuple = (tag, first_word[0])\n",
    "                if emission_tuple in emission_dict.keys():\n",
    "                    matrix[first_word][tag] = math.log(transition_dict[(\"START\", tag)]) + math.log(emission_dict[emission_tuple])\n",
    "                    father_tags[first_word][tag] = 'START'\n",
    "            else:\n",
    "                matrix[first_word][tag] = math.log(transition_dict[(\"START\", tag)])\n",
    "                father_tags[first_word][tag] = 'START'\n",
    "\n",
    "        # Other columns\n",
    "        for index, word in enumerate(words[1:]):\n",
    "            index += 1\n",
    "            word_tuple = (word, index)\n",
    "            for tag in tags_set:\n",
    "                if word_tuple[0] in words_set:\n",
    "                    emission_tuple = (tag, word_tuple[0])\n",
    "                    if emission_tuple in emission_dict.keys():\n",
    "                        for prev_tag in tags_set:\n",
    "                            if matrix[(words[index - 1], index - 1)][prev_tag] != -math.inf:\n",
    "                                transition_tuple = (prev_tag, tag)\n",
    "                                probability = matrix[(words[index - 1], index - 1)][prev_tag] + math.log(\n",
    "                                    transition_dict[transition_tuple]) + math.log(emission_dict[emission_tuple])\n",
    "                                if probability > matrix[word_tuple][tag]:\n",
    "                                    matrix[word_tuple][tag] = probability\n",
    "                                    father_tags[word_tuple][tag] = prev_tag\n",
    "                else:\n",
    "                    for prev_tag in tags_set:\n",
    "                        if matrix[(words[index - 1], index - 1)][prev_tag] != -math.inf:\n",
    "                            transition_tuple = (prev_tag, tag)\n",
    "                            probability = matrix[(words[index - 1], index - 1)][prev_tag] + math.log(\n",
    "                                transition_dict[transition_tuple])\n",
    "                            if probability > matrix[word_tuple][tag]:\n",
    "                                matrix[word_tuple][tag] = probability\n",
    "                                father_tags[word_tuple][tag] = prev_tag\n",
    "\n",
    "        # Last column\n",
    "        best_probability = -math.inf\n",
    "        best_tag = ''\n",
    "        last_word = (words[-1], len(words) - 1)\n",
    "        for tag in tags_set:\n",
    "            if matrix[last_word][tag] != -math.inf:\n",
    "                transition_tuple = (tag, 'END')\n",
    "                probability = matrix[last_word][tag] + math.log(transition_dict[transition_tuple])\n",
    "                if probability > best_probability:\n",
    "                    best_probability = probability\n",
    "                    best_tag = tag\n",
    "\n",
    "        # Backtracking\n",
    "        tags = []\n",
    "        current_word = last_word[0]\n",
    "        current_index = len(words) - 1\n",
    "        current_tag = best_tag\n",
    "\n",
    "        while current_tag != 'START':\n",
    "            tags.append(current_tag)\n",
    "            current_tag = father_tags[(current_word, current_index)][current_tag]\n",
    "            current_word = words[current_index - 1]\n",
    "            current_index -= 1\n",
    "\n",
    "        tags.reverse()\n",
    "        prediction = ''\n",
    "        for index, word in enumerate(words):\n",
    "            prediction += '{}/{} '.format(word, tags[index])\n",
    "\n",
    "        predictions.append(prediction.strip())"
   ],
   "metadata": {
    "collapsed": false,
    "pycharm": {
     "name": "#%%\n"
    }
   }
  },
  {
   "cell_type": "code",
   "execution_count": null,
   "outputs": [],
   "source": [
    "with open('hmmoutput.txt', 'w', encoding='utf-8') as output_file:\n",
    "    output_file.truncate(0)\n",
    "    for prediction in predictions:\n",
    "        output_file.write(f'{prediction}\\n')"
   ],
   "metadata": {
    "collapsed": false,
    "pycharm": {
     "name": "#%%\n"
    }
   }
  },
  {
   "cell_type": "code",
   "execution_count": null,
   "outputs": [],
   "source": [],
   "metadata": {
    "collapsed": false,
    "pycharm": {
     "name": "#%%\n"
    }
   }
  }
 ],
 "metadata": {
  "kernelspec": {
   "display_name": "Python 3",
   "language": "python",
   "name": "python3"
  },
  "language_info": {
   "codemirror_mode": {
    "name": "ipython",
    "version": 2
   },
   "file_extension": ".py",
   "mimetype": "text/x-python",
   "name": "python",
   "nbconvert_exporter": "python",
   "pygments_lexer": "ipython2",
   "version": "2.7.6"
  }
 },
 "nbformat": 4,
 "nbformat_minor": 0
}