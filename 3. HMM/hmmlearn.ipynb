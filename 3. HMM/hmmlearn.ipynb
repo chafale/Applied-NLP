{
 "cells": [
  {
   "cell_type": "code",
   "execution_count": 2,
   "outputs": [],
   "source": [
    "word_set = set()\n",
    "tags_dict = {'START': 0, 'END': 0}\n",
    "tags_count = {}\n",
    "emission_dict = {}\n",
    "transition_dict = {}\n",
    "\n",
    "file_path = \"./hmm-training-data/it_isdt_train_tagged.txt\""
   ],
   "metadata": {
    "collapsed": false,
    "pycharm": {
     "name": "#%%\n"
    }
   }
  },
  {
   "cell_type": "code",
   "execution_count": 3,
   "outputs": [],
   "source": [
    "def word_preprocess(word):\n",
    "    return word.lower()\n",
    "    # return word"
   ],
   "metadata": {
    "collapsed": false,
    "pycharm": {
     "name": "#%%\n"
    }
   }
  },
  {
   "cell_type": "code",
   "execution_count": 4,
   "outputs": [],
   "source": [
    "with open(file_path, encoding='utf-8') as input_file:\n",
    "    lines = input_file.readlines()\n",
    "    for each_line in lines:\n",
    "        tokens = each_line.split()\n",
    "\n",
    "        previous_tag = \"START\"\n",
    "\n",
    "        for each_token in tokens:\n",
    "            token_split = each_token.rsplit(\"/\", 1)\n",
    "            word = word_preprocess(token_split[0])\n",
    "            tag = token_split[1]\n",
    "\n",
    "            # word\n",
    "            word_set.add(word)\n",
    "\n",
    "            # tags_dict\n",
    "            if tag not in tags_dict:\n",
    "                tags_dict[tag] = 1\n",
    "            else:\n",
    "                tags_dict[tag] += 1\n",
    "\n",
    "            # transition_dict\n",
    "            transition_tuple = (previous_tag, tag)\n",
    "            if transition_tuple not in transition_dict:\n",
    "                transition_dict[transition_tuple] = 1\n",
    "            else:\n",
    "                transition_dict[transition_tuple] += 1\n",
    "            previous_tag = tag\n",
    "\n",
    "            # emission_dict\n",
    "            emission_tuple = (tag, word)\n",
    "            if emission_tuple not in emission_dict:\n",
    "                emission_dict[emission_tuple] = 1\n",
    "            else:\n",
    "                emission_dict[emission_tuple] += 1\n",
    "\n",
    "        if (tag, 'END') not in transition_dict:\n",
    "            transition_dict[(tag, 'END')] = 1\n",
    "        else:\n",
    "            transition_dict[(tag, 'END')] += 1\n",
    "\n",
    "        tags_dict['START'] += 1\n",
    "        tags_dict['END'] += 1"
   ],
   "metadata": {
    "collapsed": false,
    "pycharm": {
     "name": "#%%\n"
    }
   }
  },
  {
   "cell_type": "code",
   "execution_count": 5,
   "outputs": [],
   "source": [
    "for tag in tags_dict:\n",
    "    tags_count[tag] = tags_dict[tag]\n",
    "\n",
    "# Smoothing\n",
    "for tag_1 in tags_dict:\n",
    "    for tag_2 in tags_dict:\n",
    "        if tag_1 == \"START\" and tag_2 == \"END\":\n",
    "            continue\n",
    "        if tag_1 == \"END\":\n",
    "            continue\n",
    "        if tag_2 == \"START\":\n",
    "            continue\n",
    "\n",
    "        if (tag_1, tag_2) not in transition_dict:\n",
    "            transition_dict[(tag_1, tag_2)] = 1\n",
    "            tags_count[tag_1] += 1\n",
    "\n",
    "assert ('START', 'END') not in transition_dict"
   ],
   "metadata": {
    "collapsed": false,
    "pycharm": {
     "name": "#%%\n"
    }
   }
  },
  {
   "cell_type": "code",
   "execution_count": 6,
   "outputs": [],
   "source": [
    "# Transition dictionary length = number of tags ^ 2 + ('START', tags) + (tags, 'END')\n",
    "assert len(transition_dict) == (len(tags_dict) - 2) ** 2 + 2 * (len(tags_dict) - 2)"
   ],
   "metadata": {
    "collapsed": false,
    "pycharm": {
     "name": "#%%\n"
    }
   }
  },
  {
   "cell_type": "code",
   "execution_count": 7,
   "outputs": [],
   "source": [
    "for transition in transition_dict:\n",
    "    transition_dict[transition] = transition_dict[transition] / tags_count[transition[0]]\n",
    "    assert transition_dict[transition] <= 1, 'Something wrong with smoothing transition probabilities'"
   ],
   "metadata": {
    "collapsed": false,
    "pycharm": {
     "name": "#%%\n"
    }
   }
  },
  {
   "cell_type": "code",
   "execution_count": 8,
   "outputs": [],
   "source": [
    "for emission in emission_dict:\n",
    "    tag = emission[0]\n",
    "    emission_dict[emission] = emission_dict[emission] / tags_dict[tag]\n",
    "    assert emission_dict[emission] <= 1, 'Something wrong with emission probabilities'"
   ],
   "metadata": {
    "collapsed": false,
    "pycharm": {
     "name": "#%%\n"
    }
   }
  },
  {
   "cell_type": "code",
   "execution_count": 9,
   "outputs": [],
   "source": [
    "with open('hmmmodel.txt', 'w', encoding='utf-8') as f:\n",
    "    f.truncate(0)\n",
    "    f.write(f'{word_set}\\n')\n",
    "    f.write(f'{tags_dict}\\n')\n",
    "    f.write(f'{transition_dict}\\n')\n",
    "    f.write(f'{emission_dict}\\n')"
   ],
   "metadata": {
    "collapsed": false,
    "pycharm": {
     "name": "#%%\n"
    }
   }
  },
  {
   "cell_type": "code",
   "execution_count": 9,
   "outputs": [],
   "source": [],
   "metadata": {
    "collapsed": false,
    "pycharm": {
     "name": "#%%\n"
    }
   }
  }
 ],
 "metadata": {
  "kernelspec": {
   "display_name": "Python 3",
   "language": "python",
   "name": "python3"
  },
  "language_info": {
   "codemirror_mode": {
    "name": "ipython",
    "version": 2
   },
   "file_extension": ".py",
   "mimetype": "text/x-python",
   "name": "python",
   "nbconvert_exporter": "python",
   "pygments_lexer": "ipython2",
   "version": "2.7.6"
  }
 },
 "nbformat": 4,
 "nbformat_minor": 0
}